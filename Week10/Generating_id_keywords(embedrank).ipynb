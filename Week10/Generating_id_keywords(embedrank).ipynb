{
  "nbformat": 4,
  "nbformat_minor": 0,
  "metadata": {
    "colab": {
      "name": "Generating_id-keywords(embedrank).ipynb",
      "provenance": [],
      "authorship_tag": "ABX9TyPTUdSlq/H3wzGzq3Gh5KGk",
      "include_colab_link": true
    },
    "kernelspec": {
      "name": "python3",
      "display_name": "Python 3"
    },
    "language_info": {
      "name": "python"
    },
    "gpuClass": "standard"
  },
  "cells": [
    {
      "cell_type": "markdown",
      "metadata": {
        "id": "view-in-github",
        "colab_type": "text"
      },
      "source": [
        "<a href=\"https://colab.research.google.com/github/MakC-Ukr/AP_Project_Group134/blob/master/Week10/Generating_id_keywords(embedrank).ipynb\" target=\"_parent\"><img src=\"https://colab.research.google.com/assets/colab-badge.svg\" alt=\"Open In Colab\"/></a>"
      ]
    },
    {
      "cell_type": "code",
      "execution_count": null,
      "metadata": {
        "id": "IhslN1b-wPQk"
      },
      "outputs": [],
      "source": [
        "import pandas as pd\n",
        "from tqdm import tqdm\n",
        "import time\n",
        "import numpy as np\n",
        "import json\n",
        "import os"
      ]
    },
    {
      "cell_type": "code",
      "source": [
        "from google.colab import drive\n",
        "drive.mount('/content/drive')"
      ],
      "metadata": {
        "colab": {
          "base_uri": "https://localhost:8080/"
        },
        "id": "3JYc-dI-ws-o",
        "outputId": "7c82e555-ab98-4d15-d57e-0381357c686f"
      },
      "execution_count": null,
      "outputs": [
        {
          "output_type": "stream",
          "name": "stdout",
          "text": [
            "Mounted at /content/drive\n"
          ]
        }
      ]
    },
    {
      "cell_type": "code",
      "source": [
        "!unzip \"/content/drive/MyDrive/Extramarks Project/Dataset versions/Pipeline data/EmJacc-final.zip\""
      ],
      "metadata": {
        "id": "74aldLGMwvT6"
      },
      "execution_count": null,
      "outputs": []
    },
    {
      "cell_type": "markdown",
      "source": [
        "114803 rows of text"
      ],
      "metadata": {
        "id": "usUwLKc2xuna"
      }
    },
    {
      "cell_type": "code",
      "source": [
        "def return_key_words(loc):\n",
        "  f = open(loc)\n",
        "  # res = []\n",
        "  res = ''\n",
        "  Lines = f.readlines()\n",
        "  for i in Lines:\n",
        "    res += (' '.join(i.split()[:-1])) + ' '\n",
        "    # temp.append(round(float(i.split()[-1]),3))\n",
        "    # res.append(temp)\n",
        "  return res"
      ],
      "metadata": {
        "id": "MpRqanXoxWpq"
      },
      "execution_count": null,
      "outputs": []
    },
    {
      "cell_type": "code",
      "source": [
        "df = pd.read_csv(\"drive/My Drive/Extramarks Project/Dataset versions/Pipeline data/Base_data.csv\", index_col = 0 )\n",
        "df = df.reset_index()\n",
        "df = df.drop(\"index\", axis=1)\n",
        "df = df.drop(\"level_0\", axis=1)\n",
        "df.head()"
      ],
      "metadata": {
        "colab": {
          "base_uri": "https://localhost:8080/",
          "height": 261
        },
        "id": "BTHvIAidzPI-",
        "outputId": "ca2a2c62-4433-4faa-fb76-7b8455a7d847"
      },
      "execution_count": null,
      "outputs": [
        {
          "output_type": "stream",
          "name": "stderr",
          "text": [
            "/usr/local/lib/python3.7/dist-packages/IPython/core/interactiveshell.py:2882: DtypeWarning: Columns (4) have mixed types.Specify dtype option on import or set low_memory=False.\n",
            "  exec(code_obj, self.user_global_ns, self.user_ns)\n"
          ]
        },
        {
          "output_type": "execute_result",
          "data": {
            "text/plain": [
              "   question_id                                           question syllabus_id  \\\n",
              "0      2073346         how many π bonds are present in ferrocene       700295   \n",
              "1      2073324  what is covalency of chlorine atom in second e...      698013   \n",
              "2      2073225  in solid x atoms goes to corner of the cube an...      700078   \n",
              "3      2073215  calculate value of x y here x and y are the to...      697895   \n",
              "4      2073202  in phosphorus acid if x is number of non bondi...      697895   \n",
              "\n",
              "                                              answer        question_type  \\\n",
              "0                                                 a   Subjective Question   \n",
              "1                                                 a   Subjective Question   \n",
              "2                         No of x atoms 8 18 2 12 2   Subjective Question   \n",
              "3  stryde images 2022 04 11 202204110162130016496...  Subjective Question   \n",
              "4  stryde images 2022 04 11 202204119693370016496...  Subjective Question   \n",
              "\n",
              "   len  words  \n",
              "0   41      8  \n",
              "1   58     10  \n",
              "2  126     25  \n",
              "3  156     28  \n",
              "4  143     32  "
            ],
            "text/html": [
              "\n",
              "  <div id=\"df-f35b7ca4-e6e1-48ad-a0d8-610ba4a01b97\">\n",
              "    <div class=\"colab-df-container\">\n",
              "      <div>\n",
              "<style scoped>\n",
              "    .dataframe tbody tr th:only-of-type {\n",
              "        vertical-align: middle;\n",
              "    }\n",
              "\n",
              "    .dataframe tbody tr th {\n",
              "        vertical-align: top;\n",
              "    }\n",
              "\n",
              "    .dataframe thead th {\n",
              "        text-align: right;\n",
              "    }\n",
              "</style>\n",
              "<table border=\"1\" class=\"dataframe\">\n",
              "  <thead>\n",
              "    <tr style=\"text-align: right;\">\n",
              "      <th></th>\n",
              "      <th>question_id</th>\n",
              "      <th>question</th>\n",
              "      <th>syllabus_id</th>\n",
              "      <th>answer</th>\n",
              "      <th>question_type</th>\n",
              "      <th>len</th>\n",
              "      <th>words</th>\n",
              "    </tr>\n",
              "  </thead>\n",
              "  <tbody>\n",
              "    <tr>\n",
              "      <th>0</th>\n",
              "      <td>2073346</td>\n",
              "      <td>how many π bonds are present in ferrocene</td>\n",
              "      <td>700295</td>\n",
              "      <td>a</td>\n",
              "      <td>Subjective Question</td>\n",
              "      <td>41</td>\n",
              "      <td>8</td>\n",
              "    </tr>\n",
              "    <tr>\n",
              "      <th>1</th>\n",
              "      <td>2073324</td>\n",
              "      <td>what is covalency of chlorine atom in second e...</td>\n",
              "      <td>698013</td>\n",
              "      <td>a</td>\n",
              "      <td>Subjective Question</td>\n",
              "      <td>58</td>\n",
              "      <td>10</td>\n",
              "    </tr>\n",
              "    <tr>\n",
              "      <th>2</th>\n",
              "      <td>2073225</td>\n",
              "      <td>in solid x atoms goes to corner of the cube an...</td>\n",
              "      <td>700078</td>\n",
              "      <td>No of x atoms 8 18 2 12 2</td>\n",
              "      <td>Subjective Question</td>\n",
              "      <td>126</td>\n",
              "      <td>25</td>\n",
              "    </tr>\n",
              "    <tr>\n",
              "      <th>3</th>\n",
              "      <td>2073215</td>\n",
              "      <td>calculate value of x y here x and y are the to...</td>\n",
              "      <td>697895</td>\n",
              "      <td>stryde images 2022 04 11 202204110162130016496...</td>\n",
              "      <td>Subjective Question</td>\n",
              "      <td>156</td>\n",
              "      <td>28</td>\n",
              "    </tr>\n",
              "    <tr>\n",
              "      <th>4</th>\n",
              "      <td>2073202</td>\n",
              "      <td>in phosphorus acid if x is number of non bondi...</td>\n",
              "      <td>697895</td>\n",
              "      <td>stryde images 2022 04 11 202204119693370016496...</td>\n",
              "      <td>Subjective Question</td>\n",
              "      <td>143</td>\n",
              "      <td>32</td>\n",
              "    </tr>\n",
              "  </tbody>\n",
              "</table>\n",
              "</div>\n",
              "      <button class=\"colab-df-convert\" onclick=\"convertToInteractive('df-f35b7ca4-e6e1-48ad-a0d8-610ba4a01b97')\"\n",
              "              title=\"Convert this dataframe to an interactive table.\"\n",
              "              style=\"display:none;\">\n",
              "        \n",
              "  <svg xmlns=\"http://www.w3.org/2000/svg\" height=\"24px\"viewBox=\"0 0 24 24\"\n",
              "       width=\"24px\">\n",
              "    <path d=\"M0 0h24v24H0V0z\" fill=\"none\"/>\n",
              "    <path d=\"M18.56 5.44l.94 2.06.94-2.06 2.06-.94-2.06-.94-.94-2.06-.94 2.06-2.06.94zm-11 1L8.5 8.5l.94-2.06 2.06-.94-2.06-.94L8.5 2.5l-.94 2.06-2.06.94zm10 10l.94 2.06.94-2.06 2.06-.94-2.06-.94-.94-2.06-.94 2.06-2.06.94z\"/><path d=\"M17.41 7.96l-1.37-1.37c-.4-.4-.92-.59-1.43-.59-.52 0-1.04.2-1.43.59L10.3 9.45l-7.72 7.72c-.78.78-.78 2.05 0 2.83L4 21.41c.39.39.9.59 1.41.59.51 0 1.02-.2 1.41-.59l7.78-7.78 2.81-2.81c.8-.78.8-2.07 0-2.86zM5.41 20L4 18.59l7.72-7.72 1.47 1.35L5.41 20z\"/>\n",
              "  </svg>\n",
              "      </button>\n",
              "      \n",
              "  <style>\n",
              "    .colab-df-container {\n",
              "      display:flex;\n",
              "      flex-wrap:wrap;\n",
              "      gap: 12px;\n",
              "    }\n",
              "\n",
              "    .colab-df-convert {\n",
              "      background-color: #E8F0FE;\n",
              "      border: none;\n",
              "      border-radius: 50%;\n",
              "      cursor: pointer;\n",
              "      display: none;\n",
              "      fill: #1967D2;\n",
              "      height: 32px;\n",
              "      padding: 0 0 0 0;\n",
              "      width: 32px;\n",
              "    }\n",
              "\n",
              "    .colab-df-convert:hover {\n",
              "      background-color: #E2EBFA;\n",
              "      box-shadow: 0px 1px 2px rgba(60, 64, 67, 0.3), 0px 1px 3px 1px rgba(60, 64, 67, 0.15);\n",
              "      fill: #174EA6;\n",
              "    }\n",
              "\n",
              "    [theme=dark] .colab-df-convert {\n",
              "      background-color: #3B4455;\n",
              "      fill: #D2E3FC;\n",
              "    }\n",
              "\n",
              "    [theme=dark] .colab-df-convert:hover {\n",
              "      background-color: #434B5C;\n",
              "      box-shadow: 0px 1px 3px 1px rgba(0, 0, 0, 0.15);\n",
              "      filter: drop-shadow(0px 1px 2px rgba(0, 0, 0, 0.3));\n",
              "      fill: #FFFFFF;\n",
              "    }\n",
              "  </style>\n",
              "\n",
              "      <script>\n",
              "        const buttonEl =\n",
              "          document.querySelector('#df-f35b7ca4-e6e1-48ad-a0d8-610ba4a01b97 button.colab-df-convert');\n",
              "        buttonEl.style.display =\n",
              "          google.colab.kernel.accessAllowed ? 'block' : 'none';\n",
              "\n",
              "        async function convertToInteractive(key) {\n",
              "          const element = document.querySelector('#df-f35b7ca4-e6e1-48ad-a0d8-610ba4a01b97');\n",
              "          const dataTable =\n",
              "            await google.colab.kernel.invokeFunction('convertToInteractive',\n",
              "                                                     [key], {});\n",
              "          if (!dataTable) return;\n",
              "\n",
              "          const docLinkHtml = 'Like what you see? Visit the ' +\n",
              "            '<a target=\"_blank\" href=https://colab.research.google.com/notebooks/data_table.ipynb>data table notebook</a>'\n",
              "            + ' to learn more about interactive tables.';\n",
              "          element.innerHTML = '';\n",
              "          dataTable['output_type'] = 'display_data';\n",
              "          await google.colab.output.renderOutput(dataTable, element);\n",
              "          const docLink = document.createElement('div');\n",
              "          docLink.innerHTML = docLinkHtml;\n",
              "          element.appendChild(docLink);\n",
              "        }\n",
              "      </script>\n",
              "    </div>\n",
              "  </div>\n",
              "  "
            ]
          },
          "metadata": {},
          "execution_count": 14
        }
      ]
    },
    {
      "cell_type": "code",
      "source": [
        "len(df)"
      ],
      "metadata": {
        "colab": {
          "base_uri": "https://localhost:8080/"
        },
        "id": "RMrLu0Gkz_wk",
        "outputId": "c373dd9c-cb14-42b6-acee-19fab3e49be9"
      },
      "execution_count": null,
      "outputs": [
        {
          "output_type": "execute_result",
          "data": {
            "text/plain": [
              "114803"
            ]
          },
          "metadata": {},
          "execution_count": 15
        }
      ]
    },
    {
      "cell_type": "code",
      "source": [
        "dicts = {}\n",
        "for ind, row in df.iterrows():\n",
        "  id = row['question_id']\n",
        "  temp = []\n",
        "  if os.path.isfile('EmJacc-final/'+ str(ind)):\n",
        "    temp.append(return_key_words('EmJacc-final/'+ str(ind)))\n",
        "  dicts[id] = temp"
      ],
      "metadata": {
        "id": "Rxk4CuLBxzyr"
      },
      "execution_count": null,
      "outputs": []
    },
    {
      "cell_type": "code",
      "source": [
        "with open(\"drive/My Drive/Extramarks Project/Dataset versions/Pipeline data/question_keywords.json\", 'w', encoding='utf8') as outfile:\n",
        "    json.dump(dicts, outfile, ensure_ascii=False)"
      ],
      "metadata": {
        "id": "ND6HFdo_zJYf"
      },
      "execution_count": null,
      "outputs": []
    },
    {
      "cell_type": "code",
      "source": [
        ""
      ],
      "metadata": {
        "id": "GY-bEPyjKZzX"
      },
      "execution_count": null,
      "outputs": []
    }
  ]
}